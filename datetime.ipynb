{
 "cells": [
  {
   "cell_type": "code",
   "execution_count": 3,
   "id": "70a2a003",
   "metadata": {},
   "outputs": [],
   "source": [
    "from datetime import time,date,datetime,timedelta,timezone,tzinfo\n",
    "\n",
    "# Reference Documents\n",
    "# https://docs.python.org/3/library/datetime.html\n",
    "# https://dateutil.readthedocs.io/en/stable/\n"
   ]
  },
  {
   "cell_type": "code",
   "execution_count": 5,
   "id": "64172362",
   "metadata": {},
   "outputs": [
    {
     "data": {
      "text/plain": [
       "datetime.datetime"
      ]
     },
     "execution_count": 5,
     "metadata": {},
     "output_type": "execute_result"
    }
   ],
   "source": [
    "# time functionality\n",
    "\n",
    "\n"
   ]
  },
  {
   "cell_type": "code",
   "execution_count": 6,
   "id": "1f1c1c78",
   "metadata": {},
   "outputs": [],
   "source": [
    "# date functionality"
   ]
  },
  {
   "cell_type": "code",
   "execution_count": 12,
   "id": "458c9bac",
   "metadata": {},
   "outputs": [
    {
     "data": {
      "text/plain": [
       "'2021-10-09'"
      ]
     },
     "execution_count": 12,
     "metadata": {},
     "output_type": "execute_result"
    }
   ],
   "source": [
    "# datetime functionality\n",
    "\n",
    "def dt_format(dt,fm1,fm2):\n",
    "    dt_obj = datetime.strptime(dt,fm1)\n",
    "    return dt_obj.strftime(fm2)\n",
    "    \n",
    "dt_format(\"09-10-2021\",\"%d-%m-%Y\",\"%Y-%m-%d\")"
   ]
  },
  {
   "cell_type": "code",
   "execution_count": null,
   "id": "ddc15c55",
   "metadata": {},
   "outputs": [],
   "source": []
  }
 ],
 "metadata": {
  "kernelspec": {
   "display_name": "Python 3 (ipykernel)",
   "language": "python",
   "name": "python3"
  },
  "language_info": {
   "codemirror_mode": {
    "name": "ipython",
    "version": 3
   },
   "file_extension": ".py",
   "mimetype": "text/x-python",
   "name": "python",
   "nbconvert_exporter": "python",
   "pygments_lexer": "ipython3",
   "version": "3.9.6"
  }
 },
 "nbformat": 4,
 "nbformat_minor": 5
}
