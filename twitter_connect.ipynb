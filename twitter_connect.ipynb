{
 "cells": [
  {
   "cell_type": "code",
   "execution_count": 65,
   "id": "2cc0e717",
   "metadata": {},
   "outputs": [],
   "source": [
    "import tweepy\n",
    "import pandas as pd\n",
    "from datetime import datetime"
   ]
  },
  {
   "cell_type": "code",
   "execution_count": 66,
   "id": "1eef15f7",
   "metadata": {},
   "outputs": [],
   "source": [
    "consumer_key = \"rszIUXFDfRUEUWnPXQL53Wvdz\"\n",
    "consumer_secret = \"EeANkkcw03ouBjhMTc3Zfs3fsA70Mahhcr5sUXCFRtd0qPPH2v\"\n",
    "\n",
    "access_token = \"236363487-2UN6rsqlKuFyFLMzTzdPmxE5A4HHo4sjPkAYScCd\"\n",
    "access_token_secret = \"bDjUc8ts7pVaa5q0JAPb4Y2tJgE7KIDFR36vhJAjFGCJk\""
   ]
  },
  {
   "cell_type": "code",
   "execution_count": 67,
   "id": "581939b7",
   "metadata": {},
   "outputs": [],
   "source": [
    "auth = tweepy.OAuthHandler(consumer_key,consumer_secret)\n",
    "auth.set_access_token(access_token,access_token_secret)\n",
    "api = tweepy.API(auth)"
   ]
  },
  {
   "cell_type": "code",
   "execution_count": 81,
   "id": "0cbb34a5",
   "metadata": {},
   "outputs": [],
   "source": [
    "tweets = []\n",
    "time = []\n",
    "likes = []\n",
    "cursor = tweepy.Cursor(api.user_timeline, id='Bang',tweet_mode=\"extended\")\n",
    "arg_search = tweepy.Cursor(api.search, q='argentine',tweet_mode=\"extended\")\n",
    "\n"
   ]
  },
  {
   "cell_type": "code",
   "execution_count": 82,
   "id": "775f4193",
   "metadata": {},
   "outputs": [],
   "source": [
    "# https://developer.twitter.com/en/docs/twitter-api/v1/rules-and-filtering/search-operators\n",
    "for i in tweepy.Cursor(api.search, q='angela white',tweet_mode=\"extended\").items(100):\n",
    "    tweets.append(i.full_text)\n",
    "    likes.append(i.favorite_count)\n",
    "    time.append(i.created_at)"
   ]
  },
  {
   "cell_type": "code",
   "execution_count": 83,
   "id": "d691b232",
   "metadata": {},
   "outputs": [],
   "source": [
    "df = pd.DataFrame({'tweets':tweets,'likes':likes,'time':time})"
   ]
  },
  {
   "cell_type": "code",
   "execution_count": 84,
   "id": "d329fb6c",
   "metadata": {},
   "outputs": [
    {
     "data": {
      "text/html": [
       "<div>\n",
       "<style scoped>\n",
       "    .dataframe tbody tr th:only-of-type {\n",
       "        vertical-align: middle;\n",
       "    }\n",
       "\n",
       "    .dataframe tbody tr th {\n",
       "        vertical-align: top;\n",
       "    }\n",
       "\n",
       "    .dataframe thead th {\n",
       "        text-align: right;\n",
       "    }\n",
       "</style>\n",
       "<table border=\"1\" class=\"dataframe\">\n",
       "  <thead>\n",
       "    <tr style=\"text-align: right;\">\n",
       "      <th></th>\n",
       "      <th>tweets</th>\n",
       "      <th>likes</th>\n",
       "      <th>time</th>\n",
       "    </tr>\n",
       "  </thead>\n",
       "  <tbody>\n",
       "    <tr>\n",
       "      <th>0</th>\n",
       "      <td>@catboigenius we get it babe ur an angela whit...</td>\n",
       "      <td>1</td>\n",
       "      <td>2021-07-07 08:48:36</td>\n",
       "    </tr>\n",
       "    <tr>\n",
       "      <th>1</th>\n",
       "      <td>RT @XBIZ: Angela White, Michael Stefano Enjoy ...</td>\n",
       "      <td>0</td>\n",
       "      <td>2021-07-07 08:39:12</td>\n",
       "    </tr>\n",
       "    <tr>\n",
       "      <th>2</th>\n",
       "      <td>Why didn’t anyone of you white brits defended ...</td>\n",
       "      <td>0</td>\n",
       "      <td>2021-07-07 08:32:35</td>\n",
       "    </tr>\n",
       "    <tr>\n",
       "      <th>3</th>\n",
       "      <td>RT @womensart1: US Female Workers in the Steel...</td>\n",
       "      <td>0</td>\n",
       "      <td>2021-07-07 08:19:03</td>\n",
       "    </tr>\n",
       "    <tr>\n",
       "      <th>4</th>\n",
       "      <td>@Mastermind_STL @ProfessorDWendy @aonwuachi An...</td>\n",
       "      <td>0</td>\n",
       "      <td>2021-07-07 07:51:49</td>\n",
       "    </tr>\n",
       "    <tr>\n",
       "      <th>5</th>\n",
       "      <td>@ANGELAWHITE @VikingBarbie_ angela white is a ...</td>\n",
       "      <td>0</td>\n",
       "      <td>2021-07-07 07:30:58</td>\n",
       "    </tr>\n",
       "    <tr>\n",
       "      <th>6</th>\n",
       "      <td>RT @angela_staff: #はめふらX OPテーマ「アンダンテに恋をして！」が本日...</td>\n",
       "      <td>0</td>\n",
       "      <td>2021-07-07 07:18:45</td>\n",
       "    </tr>\n",
       "  </tbody>\n",
       "</table>\n",
       "</div>"
      ],
      "text/plain": [
       "                                              tweets  likes  \\\n",
       "0  @catboigenius we get it babe ur an angela whit...      1   \n",
       "1  RT @XBIZ: Angela White, Michael Stefano Enjoy ...      0   \n",
       "2  Why didn’t anyone of you white brits defended ...      0   \n",
       "3  RT @womensart1: US Female Workers in the Steel...      0   \n",
       "4  @Mastermind_STL @ProfessorDWendy @aonwuachi An...      0   \n",
       "5  @ANGELAWHITE @VikingBarbie_ angela white is a ...      0   \n",
       "6  RT @angela_staff: #はめふらX OPテーマ「アンダンテに恋をして！」が本日...      0   \n",
       "\n",
       "                 time  \n",
       "0 2021-07-07 08:48:36  \n",
       "1 2021-07-07 08:39:12  \n",
       "2 2021-07-07 08:32:35  \n",
       "3 2021-07-07 08:19:03  \n",
       "4 2021-07-07 07:51:49  \n",
       "5 2021-07-07 07:30:58  \n",
       "6 2021-07-07 07:18:45  "
      ]
     },
     "execution_count": 84,
     "metadata": {},
     "output_type": "execute_result"
    }
   ],
   "source": [
    "df\n"
   ]
  },
  {
   "cell_type": "code",
   "execution_count": null,
   "id": "62baae22",
   "metadata": {},
   "outputs": [],
   "source": []
  }
 ],
 "metadata": {
  "kernelspec": {
   "display_name": "Python 3 (ipykernel)",
   "language": "python",
   "name": "python3"
  },
  "language_info": {
   "codemirror_mode": {
    "name": "ipython",
    "version": 3
   },
   "file_extension": ".py",
   "mimetype": "text/x-python",
   "name": "python",
   "nbconvert_exporter": "python",
   "pygments_lexer": "ipython3",
   "version": "3.9.6"
  }
 },
 "nbformat": 4,
 "nbformat_minor": 5
}
